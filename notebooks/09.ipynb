{
  "cells": [
    {
      "cell_type": "markdown",
      "source": [
        "# 二分探索木"
      ],
      "metadata": {
        "id": "I0YV-O5kB8x7"
      },
      "id": "I0YV-O5kB8x7"
    },
    {
      "cell_type": "markdown",
      "source": [],
      "metadata": {
        "id": "rZXpkFtyB8x9"
      },
      "id": "rZXpkFtyB8x9"
    },
    {
      "cell_type": "markdown",
      "source": [
        "## 二分探索木：問題にチャレンジする前に"
      ],
      "metadata": {
        "id": "3O9i6cKMB8x9"
      },
      "id": "3O9i6cKMB8x9"
    },
    {
      "cell_type": "markdown",
      "source": [],
      "metadata": {
        "id": "Fh7hOACrB8x-"
      },
      "id": "Fh7hOACrB8x-"
    },
    {
      "cell_type": "markdown",
      "source": [
        "### トレードオフ"
      ],
      "metadata": {
        "id": "vX4XRIJwB8x-"
      },
      "id": "vX4XRIJwB8x-"
    },
    {
      "cell_type": "markdown",
      "source": [
        "\n",
        "| データ構造              | 探索        | 挿入        | 削除        |\n",
        "|-------------------------|-------------|-------------|-------------|\n",
        "| 配列（Python のリスト） | $O(n)$      | $O(n)$      | $O(n)$      |\n",
        "| 整列済み配列            | $O(\\log n)$ | $O(n)$      | $O(n)$      |\n",
        "| 双方向連結リスト        | $O(n)$      | $O(1)$      | $O(1)$      |\n",
        "| **二分探索木**          | $O(\\log n)$ | $O(\\log n)$ | $O(\\log n)$ |"
      ],
      "metadata": {
        "id": "4L7yObe0B8x-"
      },
      "id": "4L7yObe0B8x-"
    },
    {
      "cell_type": "markdown",
      "source": [
        "### クラス図"
      ],
      "metadata": {
        "id": "bGtmJqsiB8x-"
      },
      "id": "bGtmJqsiB8x-"
    },
    {
      "cell_type": "markdown",
      "source": [
        "\n",
        "この資料の最後（全てのクラスが定義できたもの）のコードをAIに渡して，次のプロンプトを実行する。\n",
        "\n",
        "> Google Colab内で有効なクラス図を描いて<br>（ここにコードを貼り付ける）"
      ],
      "metadata": {
        "id": "8oaFuHoIB8x-"
      },
      "id": "8oaFuHoIB8x-"
    },
    {
      "cell_type": "code",
      "execution_count": null,
      "metadata": {
        "id": "l2lFEdHhB8x_"
      },
      "outputs": [],
      "source": [
        "# ------------------ クラス図を描くセル ------------------\n",
        "from graphviz import Digraph\n",
        "from IPython.display import Image, display\n",
        "\n",
        "dot = Digraph(comment='BST Classes', format='png')\n",
        "dot.attr('node', shape='record', fontsize='11')\n",
        "\n",
        "# 各クラス（フィールド／主なメソッドは必要に応じて省略・追加可）\n",
        "dot.node('Node',\n",
        "          '{Node| key : int\\\\l parent : Node\\\\l left : Node\\\\l right : Node\\\\l}')\n",
        "\n",
        "dot.node('Tree',\n",
        "          '{Tree| root : Node\\\\l| insert(z)\\\\l}')\n",
        "\n",
        "dot.node('Tree2',\n",
        "          '{Tree2| | find(k) : Node\\\\l}')\n",
        "\n",
        "dot.node('Tree3',\n",
        "          '{Tree3| | getMinimum(x) : Node\\\\l deleteNode(z) : None\\\\l}')\n",
        "\n",
        "# 継承（open-arrow で「空継承」を表現）\n",
        "dot.edge('Tree2', 'Tree', arrowhead='empty')\n",
        "dot.edge('Tree3', 'Tree2', arrowhead='empty')\n",
        "\n",
        "# 描画して Colab 上に表示\n",
        "diagram_path = dot.render(filename='bst_classes')\n",
        "display(Image(filename=diagram_path))"
      ],
      "id": "l2lFEdHhB8x_"
    },
    {
      "cell_type": "markdown",
      "source": [
        "## 二分探索木：挿入"
      ],
      "metadata": {
        "id": "pbDnhglNB8yA"
      },
      "id": "pbDnhglNB8yA"
    },
    {
      "cell_type": "markdown",
      "source": [
        "\n",
        "問題：[ALDS1_8_A](https://onlinejudge.u-aizu.ac.jp/courses/lesson/1/ALDS1/8/ALDS1_8_A) (Binary Search Tree I)\n",
        "\n",
        "ちなみに，中間順巡回と先行順巡回を確認して後行順巡回を確認しないのは，前の二つだけ木が決まるからである（教科書8.5節を参照）。"
      ],
      "metadata": {
        "id": "DCcSKxptB8yA"
      },
      "id": "DCcSKxptB8yA"
    },
    {
      "cell_type": "code",
      "execution_count": null,
      "metadata": {
        "id": "IgtvTqffB8yA"
      },
      "outputs": [],
      "source": [
        "%%writefile input.dat\n",
        "8\n",
        "insert 30\n",
        "insert 88\n",
        "insert 12\n",
        "insert 1\n",
        "insert 20\n",
        "insert 17\n",
        "insert 25\n",
        "print"
      ],
      "id": "IgtvTqffB8yA"
    },
    {
      "cell_type": "code",
      "execution_count": null,
      "metadata": {
        "id": "jJjhWW3uB8yB"
      },
      "outputs": [],
      "source": [
        "%%writefile test.py\n",
        "def preParse(u):\n",
        "  if u is None: return\n",
        "  print(f' {u.key}', end='')\n",
        "  preParse(u.left)\n",
        "  preParse(u.right)\n",
        "\n",
        "def inParse(u):\n",
        "  if u is None: return\n",
        "  inParse(u.left)\n",
        "  print(f' {u.key}', end='')\n",
        "  inParse(u.right)\n",
        "\n",
        "class Node:\n",
        "  def __init__(self, key):\n",
        "    self.key = key\n",
        "    self.parent = None\n",
        "    self.left = None\n",
        "    self.right = None\n",
        "\n",
        "class Tree:\n",
        "  def __init__(self):\n",
        "    self.root = None\n",
        "\n",
        "  def insert(self, z):\n",
        "    x = self.root\n",
        "    y = None\n",
        "    while x is not None:\n",
        "      y = x\n",
        "      if z.key < x.key: x = x.left\n",
        "      else: x = x.right\n",
        "    z.parent = y\n",
        "    if y is None: self.root = z\n",
        "    elif z.key < y.key: y.left = z\n",
        "    else: y.right = z\n",
        "\n",
        "n = int(input())\n",
        "T = Tree()\n",
        "# T2 = Tree() # もう1本必要なら作ればよい。\n",
        "\n",
        "for _ in range(n):\n",
        "  com = input().split()\n",
        "  # 自分で書く。"
      ],
      "id": "jJjhWW3uB8yB"
    },
    {
      "cell_type": "code",
      "execution_count": null,
      "metadata": {
        "id": "KIPAGUzTB8yB"
      },
      "outputs": [],
      "source": [
        "!python3 test.py < input.dat"
      ],
      "id": "KIPAGUzTB8yB"
    },
    {
      "cell_type": "markdown",
      "source": [
        "## 二分探索木：探索"
      ],
      "metadata": {
        "id": "M0Hf8W7dB8yB"
      },
      "id": "M0Hf8W7dB8yB"
    },
    {
      "cell_type": "markdown",
      "source": [
        "\n",
        "問題：[ALDS1_8_B](https://onlinejudge.u-aizu.ac.jp/courses/lesson/1/ALDS1/8/ALDS1_8_B) (Binary Search Tree II)"
      ],
      "metadata": {
        "id": "6_LSBijrB8yB"
      },
      "id": "6_LSBijrB8yB"
    },
    {
      "cell_type": "code",
      "execution_count": null,
      "metadata": {
        "id": "ZG-EX-efB8yB"
      },
      "outputs": [],
      "source": [
        "%%writefile input.dat\n",
        "10\n",
        "insert 30\n",
        "insert 88\n",
        "insert 12\n",
        "insert 1\n",
        "insert 20\n",
        "find 12\n",
        "insert 17\n",
        "insert 25\n",
        "find 16\n",
        "print"
      ],
      "id": "ZG-EX-efB8yB"
    },
    {
      "cell_type": "code",
      "execution_count": 1,
      "metadata": {
        "id": "7GNNZewKB8yB",
        "outputId": "8955276f-8089-43d1-b6c5-0746f8885cb4",
        "colab": {
          "base_uri": "https://localhost:8080/"
        }
      },
      "outputs": [
        {
          "output_type": "stream",
          "name": "stdout",
          "text": [
            "Writing test.py\n"
          ]
        }
      ],
      "source": [
        "%%writefile test.py\n",
        "# preParse, inParse の定義（前と同じ）\n",
        "\n",
        "# Nodeの定義（前と同じ）\n",
        "class Node:\n",
        "  def __init__(self, key):\n",
        "    self.key = key\n",
        "    self.parent = None\n",
        "    self.left = None\n",
        "    self.right = None\n",
        "\n",
        "# Treeの定義（前と同じ）\n",
        "class Tree:\n",
        "  def __init__(self):\n",
        "    self.root = None\n",
        "\n",
        "class Tree2(Tree):\n",
        "  def find(self, k):\n",
        "    x = self.root\n",
        "    while x is not None and k != x.key:\n",
        "      if k < x.key: x = x.left\n",
        "      else: x = x.right\n",
        "    return x\n",
        "\n",
        "n = int(input())\n",
        "T = Tree2()\n",
        "\n",
        "for _ in range(n):\n",
        "  com = input().split()\n",
        "  # insertとprint（前と同じ）\n",
        "  def insert(self, z):\n",
        "    x = self.root\n",
        "    y = None\n",
        "    while x is not None:\n",
        "      y = x\n",
        "      if z.key < x.key: x = x.left\n",
        "      else: x = x.right\n",
        "    z.parent = y\n",
        "    if y is None: self.root = z\n",
        "    elif z.key < y.key: y.left = z\n",
        "    else: y.right = z\n",
        "\n",
        "  # findについて，自分で書く。"
      ],
      "id": "7GNNZewKB8yB"
    },
    {
      "cell_type": "code",
      "execution_count": 2,
      "metadata": {
        "id": "afpFfpK_B8yB",
        "outputId": "d0590242-c54f-40ca-b248-4b6a65da79ba",
        "colab": {
          "base_uri": "https://localhost:8080/"
        }
      },
      "outputs": [
        {
          "output_type": "stream",
          "name": "stdout",
          "text": [
            "/bin/bash: line 1: input.dat: No such file or directory\n"
          ]
        }
      ],
      "source": [
        "!python3 test.py < input.dat"
      ],
      "id": "afpFfpK_B8yB"
    },
    {
      "cell_type": "markdown",
      "source": [
        "## 二分探索木：削除"
      ],
      "metadata": {
        "id": "H9JmUIiqB8yC"
      },
      "id": "H9JmUIiqB8yC"
    },
    {
      "cell_type": "markdown",
      "source": [
        "\n",
        "問題：[ALDS1_8_C](https://onlinejudge.u-aizu.ac.jp/courses/lesson/1/ALDS1/8/ALDS1_8_C) (Binary Search Tree III)"
      ],
      "metadata": {
        "id": "a78zYjwQB8yC"
      },
      "id": "a78zYjwQB8yC"
    },
    {
      "cell_type": "code",
      "execution_count": null,
      "metadata": {
        "id": "Val9ywYiB8yC"
      },
      "outputs": [],
      "source": [
        "%%writefile input.dat\n",
        "18\n",
        "insert 8\n",
        "insert 2\n",
        "insert 3\n",
        "insert 7\n",
        "insert 22\n",
        "insert 1\n",
        "find 1\n",
        "find 2\n",
        "find 3\n",
        "find 4\n",
        "find 5\n",
        "find 6\n",
        "find 7\n",
        "find 8\n",
        "print\n",
        "delete 3\n",
        "delete 7\n",
        "print"
      ],
      "id": "Val9ywYiB8yC"
    },
    {
      "cell_type": "code",
      "execution_count": null,
      "metadata": {
        "id": "hE4bHvF4B8yC"
      },
      "outputs": [],
      "source": [
        "%%writefile test.py\n",
        "# Tree2の定義までは前と同じ\n",
        "\n",
        "class Tree3(Tree2):\n",
        "  def getMinimum(self, x):\n",
        "    while x.left is not None: x = x.left\n",
        "    return x\n",
        "\n",
        "  def deleteNode(self, z):\n",
        "    if z.left is None or z.right is None:\n",
        "      y = z\n",
        "    else:\n",
        "      y = self.getMinimum(z.right) # 教科書のgetSuccessor()は不要\n",
        "\n",
        "    # y に残っている唯一の子を x とする\n",
        "    x = y.left if y.left is not None else y.right\n",
        "\n",
        "    # x が存在すれば親ポインタを貼り替え\n",
        "    if x is not None: x.parent = y.parent\n",
        "\n",
        "    # 木の根または親の子ポインタを置換（transplant）\n",
        "    if y.parent is None: self.root = x\n",
        "    elif y == y.parent.left: y.parent.left = x\n",
        "    else: y.parent.right = x\n",
        "\n",
        "    # もし “論理的に削除したいノード” と “実際に削除したノード”が異なればキーをコピーして完了\n",
        "    if y != z: z.key = y.key\n",
        "\n",
        "n = int(input())\n",
        "T = Tree3()\n",
        "\n",
        "for _ in range(n):\n",
        "  com = input().split()\n",
        "  #findの処理まで前と同じ\n",
        "  #deleteについて，自分で書く。"
      ],
      "id": "hE4bHvF4B8yC"
    },
    {
      "cell_type": "code",
      "execution_count": null,
      "metadata": {
        "id": "o5wx0cijB8yC"
      },
      "outputs": [],
      "source": [
        "!python3 test.py < input.dat"
      ],
      "id": "o5wx0cijB8yC"
    }
  ],
  "nbformat": 4,
  "nbformat_minor": 5,
  "metadata": {
    "colab": {
      "provenance": []
    },
    "language_info": {
      "name": "python"
    },
    "kernelspec": {
      "name": "python3",
      "display_name": "Python 3"
    }
  }
}